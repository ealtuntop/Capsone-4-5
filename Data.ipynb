{
 "cells": [
  {
   "cell_type": "markdown",
   "metadata": {},
   "source": [
    "## Data\n",
    "\n",
    "To find the best location for our Sushi restaurant, our consultants will use the following sources:\n",
    "\n",
    "The city of Newyork is composed of of 5 boroughs and 306 neighborhoods in total. In order to succesfully segment the neighborhoods to explore them, we need:\n",
    "\n",
    "•\t a dataset that contains the 5 boroughs and the neighborhoods that exist in each borough \n",
    "\n",
    "•\tthe latitude and logitude coordinates of each neighborhood\n",
    "\n",
    "The dataset can be found on this link: https://geo.nyu.edu/catalog/nyu_2451_34572\n",
    "\n",
    "From Foursquare Venues Categories, Sushi restaurants\n",
    "\n",
    "•\t https://developer.foursquare.com/docs/resources/categories \n",
    "Sushi category Id - 4bf58dd8d48988d1d2941735\n"
   ]
  },
  {
   "cell_type": "code",
   "execution_count": null,
   "metadata": {},
   "outputs": [],
   "source": []
  }
 ],
 "metadata": {
  "kernelspec": {
   "display_name": "Python 3",
   "language": "python",
   "name": "python3"
  },
  "language_info": {
   "name": ""
  }
 },
 "nbformat": 4,
 "nbformat_minor": 2
}
