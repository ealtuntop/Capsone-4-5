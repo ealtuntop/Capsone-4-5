{
 "cells": [
  {
   "cell_type": "markdown",
   "metadata": {},
   "source": [
    "## INTRODUCTION\n",
    "\n",
    "New York City is the most crowded city and the financial capital of the US. The city hosts many people from different cultures while also providing plenty of room for launching a business. For some decades, business owners and entrepreneurs are interested in starting a business in the city of New York. The city is known to be a hub for banking, finance, marketing, tourism, culture and real estate as a result, very attractive for service sector as well. The city is known to be famous for its international cuisine as many people from many different cultural backgrounds have been migrating to New York for decades.\n",
    "\n",
    "## BUSINESS PROBLEM\n",
    "\n",
    "Our client wants to open a Sushi restaurant in Manhattan area. However, the market is very competitive because there are already many Sushi restaurants in Manhattan borough and strategic planning is of great importance. As the analysts in a famous consultancy company, we are asked to determine the most suitable neighborhood to open a Sushi restaurant.\n",
    "### Target audience: \n",
    "Investors who want to open a new restaurant in New York can benefit from this project by changing the restaurant type.\n"
   ]
  },
  {
   "cell_type": "code",
   "execution_count": null,
   "metadata": {},
   "outputs": [],
   "source": []
  }
 ],
 "metadata": {
  "kernelspec": {
   "display_name": "Python 3",
   "language": "python",
   "name": "python3"
  },
  "language_info": {
   "codemirror_mode": {
    "name": "ipython",
    "version": 3
   },
   "file_extension": ".py",
   "mimetype": "text/x-python",
   "name": "python",
   "nbconvert_exporter": "python",
   "pygments_lexer": "ipython3",
   "version": "3.6.8"
  }
 },
 "nbformat": 4,
 "nbformat_minor": 2
}
